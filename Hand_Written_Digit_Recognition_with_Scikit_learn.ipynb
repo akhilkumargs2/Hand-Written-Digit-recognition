{
  "nbformat": 4,
  "nbformat_minor": 0,
  "metadata": {
    "colab": {
      "name": "Hand Written Digit Recognition with Scikit-learn.ipynb",
      "provenance": [],
      "collapsed_sections": []
    },
    "kernelspec": {
      "display_name": "Python 3",
      "name": "python3"
    },
    "language_info": {
      "name": "python"
    }
  },
  "cells": [
    {
      "cell_type": "markdown",
      "metadata": {
        "id": "i3NGteYqIc_U"
      },
      "source": [
        "## Imports"
      ]
    },
    {
      "cell_type": "code",
      "metadata": {
        "id": "FMjlcOiWulsm"
      },
      "source": [
        "import pandas as pd"
      ],
      "execution_count": null,
      "outputs": []
    },
    {
      "cell_type": "markdown",
      "metadata": {
        "id": "Bkg7djDW2K_a"
      },
      "source": [
        "## MNIST Data Collection"
      ]
    },
    {
      "cell_type": "code",
      "metadata": {
        "id": "09HLkyVhuvyP",
        "colab": {
          "base_uri": "https://localhost:8080/"
        },
        "outputId": "7f4a2258-49eb-4357-ef7f-cc2e8cfd097f"
      },
      "source": [
        "!wget https://nkb-backend-otg-media-static.s3.ap-south-1.amazonaws.com/otg_prod/media/Tech_4.0/AI_ML/Datasets/kaggle_mnist/train.csv\n",
        "!wget https://nkb-backend-otg-media-static.s3.ap-south-1.amazonaws.com/otg_prod/media/Tech_4.0/AI_ML/Datasets/kaggle_mnist/test.csv"
      ],
      "execution_count": null,
      "outputs": [
        {
          "output_type": "stream",
          "text": [
            "--2021-07-25 06:00:10--  https://nkb-backend-otg-media-static.s3.ap-south-1.amazonaws.com/otg_prod/media/Tech_4.0/AI_ML/Datasets/kaggle_mnist/train.csv\n",
            "Resolving nkb-backend-otg-media-static.s3.ap-south-1.amazonaws.com (nkb-backend-otg-media-static.s3.ap-south-1.amazonaws.com)... 52.219.66.42\n",
            "Connecting to nkb-backend-otg-media-static.s3.ap-south-1.amazonaws.com (nkb-backend-otg-media-static.s3.ap-south-1.amazonaws.com)|52.219.66.42|:443... connected.\n",
            "HTTP request sent, awaiting response... 200 OK\n",
            "Length: 76775041 (73M) [text/csv]\n",
            "Saving to: ‘train.csv’\n",
            "\n",
            "train.csv           100%[===================>]  73.22M  18.8MB/s    in 3.9s    \n",
            "\n",
            "2021-07-25 06:00:14 (18.8 MB/s) - ‘train.csv’ saved [76775041/76775041]\n",
            "\n",
            "--2021-07-25 06:00:14--  https://nkb-backend-otg-media-static.s3.ap-south-1.amazonaws.com/otg_prod/media/Tech_4.0/AI_ML/Datasets/kaggle_mnist/test.csv\n",
            "Resolving nkb-backend-otg-media-static.s3.ap-south-1.amazonaws.com (nkb-backend-otg-media-static.s3.ap-south-1.amazonaws.com)... 52.219.62.87\n",
            "Connecting to nkb-backend-otg-media-static.s3.ap-south-1.amazonaws.com (nkb-backend-otg-media-static.s3.ap-south-1.amazonaws.com)|52.219.62.87|:443... connected.\n",
            "HTTP request sent, awaiting response... 200 OK\n",
            "Length: 51118296 (49M) [text/csv]\n",
            "Saving to: ‘test.csv’\n",
            "\n",
            "test.csv            100%[===================>]  48.75M  18.8MB/s    in 2.6s    \n",
            "\n",
            "2021-07-25 06:00:18 (18.8 MB/s) - ‘test.csv’ saved [51118296/51118296]\n",
            "\n"
          ],
          "name": "stdout"
        }
      ]
    },
    {
      "cell_type": "code",
      "metadata": {
        "id": "HoJx-RR61Sk2"
      },
      "source": [
        "train_df = pd.read_csv('train.csv')\n",
        "train_X_df = train_df.drop('label', axis=1)\n",
        "train_Y_df = train_df['label']\n",
        "test_X_df = pd.read_csv('test.csv')"
      ],
      "execution_count": null,
      "outputs": []
    },
    {
      "cell_type": "markdown",
      "metadata": {
        "id": "IQyHV0j8CvB8"
      },
      "source": [
        "## Applying the [KNeighborsClassifier](https://scikit-learn.org/stable/modules/generated/sklearn.neighbors.KNeighborsClassifier.html) on MNIST Dataset using [Pipelines](https://scikit-learn.org/stable/modules/generated/sklearn.pipeline.Pipeline.html)"
      ]
    },
    {
      "cell_type": "markdown",
      "metadata": {
        "id": "R-vdeRceeWcH"
      },
      "source": [
        "### Creating Pipeline"
      ]
    },
    {
      "cell_type": "markdown",
      "metadata": {
        "id": "WX_Er_pX0DAG"
      },
      "source": [
        "* Create a pipeline with a Scaler using the [KNeighborsClassifier](https://scikit-learn.org/stable/modules/generated/sklearn.neighbors.KNeighborsClassifier.html) as an estimator \n",
        "  * Tryiny different scaling techniques: [StandardScaler](https://scikit-learn.org/stable/modules/generated/sklearn.preprocessing.StandardScaler.html#sklearn.preprocessing.StandardScaler), [MinMaxScaler](https://scikit-learn.org/stable/modules/generated/sklearn.preprocessing.MinMaxScaler.html#sklearn.preprocessing.MinMaxScaler), [RobustScaler](https://scikit-learn.org/stable/modules/generated/sklearn.preprocessing.RobustScaler.html#sklearn.preprocessing.RobustScaler) and No scaler"
      ]
    },
    {
      "cell_type": "code",
      "metadata": {
        "id": "KNVNGfKZ3BrL"
      },
      "source": [
        "from sklearn.pipeline import Pipeline\n",
        "from sklearn.preprocessing import MinMaxScaler\n",
        "from sklearn.neighbors import KNeighborsClassifier\n",
        "\n",
        "pipe = Pipeline(steps=[('scaler', MinMaxScaler()),\n",
        "                       ('knn', KNeighborsClassifier())])"
      ],
      "execution_count": null,
      "outputs": []
    },
    {
      "cell_type": "markdown",
      "metadata": {
        "id": "UVPIPPq0eZUl"
      },
      "source": [
        "### Hyperparameter Tuning"
      ]
    },
    {
      "cell_type": "markdown",
      "metadata": {
        "id": "Ecx7w32I6i4P"
      },
      "source": [
        "* Passing the pipeline to [GridSearchCV](https://scikit-learn.org/stable/modules/generated/sklearn.model_selection.GridSearchCV.html) for hyperparameter tuning and get the best **k** (nearest neighbours) and **p** (power metric in minkowski's distance) values.\n",
        "\n"
      ]
    },
    {
      "cell_type": "code",
      "metadata": {
        "id": "eup5rP7m3wTK",
        "colab": {
          "base_uri": "https://localhost:8080/"
        },
        "outputId": "031dd572-b582-4cd7-c4a6-88864caf474d"
      },
      "source": [
        "from sklearn.model_selection import GridSearchCV\n",
        "\n",
        "param_grid = {\n",
        "    'knn__n_neighbors': [5, 10],\n",
        "    'knn__p': [1, 2]\n",
        "}\n",
        "\n",
        "grid_search = GridSearchCV(pipe, param_grid=param_grid, scoring='accuracy', refit=True, cv=2) \n",
        "grid_search.fit(train_X_df, train_Y_df)\n",
        "print(grid_search.best_params_)\n",
        "print(grid_search.score(train_X_df, train_Y_df))"
      ],
      "execution_count": null,
      "outputs": [
        {
          "output_type": "stream",
          "text": [
            "{'knn__n_neighbors': 5, 'knn__p': 2}\n",
            "0.9791428571428571\n"
          ],
          "name": "stdout"
        }
      ]
    },
    {
      "cell_type": "markdown",
      "metadata": {
        "id": "iWrNYBa9ed0r"
      },
      "source": [
        "### Predictions on the Test Data"
      ]
    },
    {
      "cell_type": "markdown",
      "metadata": {
        "id": "JjR1nnGJ0JnX"
      },
      "source": [
        "* Predicting the target values for `test_X_df` using the best model (model trained using the optimal hyperparameters on the entire train data).\n"
      ]
    },
    {
      "cell_type": "code",
      "metadata": {
        "id": "q-dmSAeBINrT",
        "colab": {
          "base_uri": "https://localhost:8080/"
        },
        "outputId": "9860de55-41b1-4ebb-fe0f-41771fe38e2a"
      },
      "source": [
        "best_model = grid_search.best_estimator_\n",
        "predicted_test_Y = best_model.predict(test_X_df)\n",
        "predicted_test_Y"
      ],
      "execution_count": null,
      "outputs": [
        {
          "output_type": "execute_result",
          "data": {
            "text/plain": [
              "array([2, 0, 9, ..., 3, 9, 2])"
            ]
          },
          "metadata": {
            "tags": []
          },
          "execution_count": 7
        }
      ]
    }
  ]
}